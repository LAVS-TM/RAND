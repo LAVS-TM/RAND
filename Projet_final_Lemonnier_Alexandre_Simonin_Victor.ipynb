{
 "cells": [
  {
   "cell_type": "markdown",
   "id": "567ac73e",
   "metadata": {},
   "source": [
    "# Projet Final R\n",
    "\n",
    "Victor Simonin & Alexandre Lemonnier\n",
    "\n",
    "Dataset : `decathlon.csv`"
   ]
  },
  {
   "cell_type": "code",
   "execution_count": 6,
   "id": "57d62587",
   "metadata": {},
   "outputs": [
    {
     "name": "stderr",
     "output_type": "stream",
     "text": [
      "Installing package into ‘/home/bictole/R/x86_64-pc-linux-gnu-library/4.2’\n",
      "(as ‘lib’ is unspecified)\n",
      "\n",
      "also installing the dependencies ‘lazyeval’, ‘later’, ‘htmlwidgets’, ‘crosstalk’, ‘jquerylib’, ‘promises’, ‘viridis’, ‘DT’, ‘ellipse’, ‘flashClust’, ‘leaps’, ‘scatterplot3d’, ‘ggsci’, ‘cowplot’, ‘ggsignif’, ‘gridExtra’, ‘polynom’, ‘rstatix’, ‘plyr’, ‘dendextend’, ‘FactoMineR’, ‘ggpubr’, ‘reshape2’, ‘ggrepel’\n",
      "\n",
      "\n"
     ]
    }
   ],
   "source": [
    "install.packages(\"factoextra\")"
   ]
  },
  {
   "cell_type": "markdown",
   "id": "8d3f0144",
   "metadata": {},
   "source": [
    "---\n",
    "\n",
    "## Import des bibliothèques\n",
    "\n",
    "Pour commencer il est nécessaire d'importer les bibliothèques qui nous permettront d'utiliser leurs fonctions par la suite du projet"
   ]
  },
  {
   "cell_type": "code",
   "execution_count": 8,
   "id": "88929f7b",
   "metadata": {},
   "outputs": [],
   "source": [
    "library(\"VIM\") # Pour la visualisation des valeurs manquantes\n",
    "library(\"corrplot\") # Pour les matrices de corrélation.\n",
    "library(\"factoextra\") # Pour les graphes de l'ACP\n",
    "library(\"FactoMineR\")"
   ]
  },
  {
   "cell_type": "markdown",
   "id": "c9dcfa20",
   "metadata": {},
   "source": [
    "---\n",
    "\n",
    "## Lecture du dataset"
   ]
  },
  {
   "cell_type": "code",
   "execution_count": 16,
   "id": "67d3cdcd",
   "metadata": {},
   "outputs": [
    {
     "data": {
      "text/html": [
       "<table class=\"dataframe\">\n",
       "<caption>A data.frame: 6 × 13</caption>\n",
       "<thead>\n",
       "\t<tr><th></th><th scope=col>X100m</th><th scope=col>Longueur</th><th scope=col>Poids</th><th scope=col>Hauteur</th><th scope=col>X400m</th><th scope=col>X110m.H</th><th scope=col>Disque</th><th scope=col>Perche</th><th scope=col>Javelot</th><th scope=col>X1500m</th><th scope=col>Classement</th><th scope=col>Points</th><th scope=col>Competition</th></tr>\n",
       "\t<tr><th></th><th scope=col>&lt;dbl&gt;</th><th scope=col>&lt;dbl&gt;</th><th scope=col>&lt;dbl&gt;</th><th scope=col>&lt;dbl&gt;</th><th scope=col>&lt;dbl&gt;</th><th scope=col>&lt;dbl&gt;</th><th scope=col>&lt;dbl&gt;</th><th scope=col>&lt;dbl&gt;</th><th scope=col>&lt;dbl&gt;</th><th scope=col>&lt;dbl&gt;</th><th scope=col>&lt;int&gt;</th><th scope=col>&lt;int&gt;</th><th scope=col>&lt;chr&gt;</th></tr>\n",
       "</thead>\n",
       "<tbody>\n",
       "\t<tr><th scope=row>Sebrle</th><td>10.85</td><td>7.84</td><td>16.36</td><td>2.12</td><td>48.36</td><td>14.05</td><td>48.72</td><td>5.0</td><td>70.52</td><td>280.01</td><td>1</td><td>8893</td><td>JO</td></tr>\n",
       "\t<tr><th scope=row>Clay</th><td>10.44</td><td>7.96</td><td>15.23</td><td>2.06</td><td>49.19</td><td>14.13</td><td>50.11</td><td>4.9</td><td>69.71</td><td>282.00</td><td>2</td><td>8820</td><td>JO</td></tr>\n",
       "\t<tr><th scope=row>Karpov</th><td>10.50</td><td>7.81</td><td>15.93</td><td>2.09</td><td>46.81</td><td>13.97</td><td>51.65</td><td>4.6</td><td>55.54</td><td>278.11</td><td>3</td><td>8725</td><td>JO</td></tr>\n",
       "\t<tr><th scope=row>Macey</th><td>10.89</td><td>7.47</td><td>15.73</td><td>2.15</td><td>48.97</td><td>14.56</td><td>48.34</td><td>4.4</td><td>58.46</td><td>265.42</td><td>4</td><td>8414</td><td>JO</td></tr>\n",
       "\t<tr><th scope=row>Warners</th><td>10.62</td><td>7.74</td><td>14.48</td><td>1.97</td><td>47.97</td><td>14.01</td><td>43.73</td><td>4.9</td><td>55.39</td><td>278.05</td><td>5</td><td>8343</td><td>JO</td></tr>\n",
       "\t<tr><th scope=row>Zsivoczky</th><td>10.91</td><td>7.14</td><td>15.31</td><td>2.12</td><td>49.40</td><td>14.95</td><td>45.62</td><td>4.7</td><td>63.45</td><td>269.54</td><td>6</td><td>8287</td><td>JO</td></tr>\n",
       "</tbody>\n",
       "</table>\n"
      ],
      "text/latex": [
       "A data.frame: 6 × 13\n",
       "\\begin{tabular}{r|lllllllllllll}\n",
       "  & X100m & Longueur & Poids & Hauteur & X400m & X110m.H & Disque & Perche & Javelot & X1500m & Classement & Points & Competition\\\\\n",
       "  & <dbl> & <dbl> & <dbl> & <dbl> & <dbl> & <dbl> & <dbl> & <dbl> & <dbl> & <dbl> & <int> & <int> & <chr>\\\\\n",
       "\\hline\n",
       "\tSebrle & 10.85 & 7.84 & 16.36 & 2.12 & 48.36 & 14.05 & 48.72 & 5.0 & 70.52 & 280.01 & 1 & 8893 & JO\\\\\n",
       "\tClay & 10.44 & 7.96 & 15.23 & 2.06 & 49.19 & 14.13 & 50.11 & 4.9 & 69.71 & 282.00 & 2 & 8820 & JO\\\\\n",
       "\tKarpov & 10.50 & 7.81 & 15.93 & 2.09 & 46.81 & 13.97 & 51.65 & 4.6 & 55.54 & 278.11 & 3 & 8725 & JO\\\\\n",
       "\tMacey & 10.89 & 7.47 & 15.73 & 2.15 & 48.97 & 14.56 & 48.34 & 4.4 & 58.46 & 265.42 & 4 & 8414 & JO\\\\\n",
       "\tWarners & 10.62 & 7.74 & 14.48 & 1.97 & 47.97 & 14.01 & 43.73 & 4.9 & 55.39 & 278.05 & 5 & 8343 & JO\\\\\n",
       "\tZsivoczky & 10.91 & 7.14 & 15.31 & 2.12 & 49.40 & 14.95 & 45.62 & 4.7 & 63.45 & 269.54 & 6 & 8287 & JO\\\\\n",
       "\\end{tabular}\n"
      ],
      "text/markdown": [
       "\n",
       "A data.frame: 6 × 13\n",
       "\n",
       "| <!--/--> | X100m &lt;dbl&gt; | Longueur &lt;dbl&gt; | Poids &lt;dbl&gt; | Hauteur &lt;dbl&gt; | X400m &lt;dbl&gt; | X110m.H &lt;dbl&gt; | Disque &lt;dbl&gt; | Perche &lt;dbl&gt; | Javelot &lt;dbl&gt; | X1500m &lt;dbl&gt; | Classement &lt;int&gt; | Points &lt;int&gt; | Competition &lt;chr&gt; |\n",
       "|---|---|---|---|---|---|---|---|---|---|---|---|---|---|\n",
       "| Sebrle | 10.85 | 7.84 | 16.36 | 2.12 | 48.36 | 14.05 | 48.72 | 5.0 | 70.52 | 280.01 | 1 | 8893 | JO |\n",
       "| Clay | 10.44 | 7.96 | 15.23 | 2.06 | 49.19 | 14.13 | 50.11 | 4.9 | 69.71 | 282.00 | 2 | 8820 | JO |\n",
       "| Karpov | 10.50 | 7.81 | 15.93 | 2.09 | 46.81 | 13.97 | 51.65 | 4.6 | 55.54 | 278.11 | 3 | 8725 | JO |\n",
       "| Macey | 10.89 | 7.47 | 15.73 | 2.15 | 48.97 | 14.56 | 48.34 | 4.4 | 58.46 | 265.42 | 4 | 8414 | JO |\n",
       "| Warners | 10.62 | 7.74 | 14.48 | 1.97 | 47.97 | 14.01 | 43.73 | 4.9 | 55.39 | 278.05 | 5 | 8343 | JO |\n",
       "| Zsivoczky | 10.91 | 7.14 | 15.31 | 2.12 | 49.40 | 14.95 | 45.62 | 4.7 | 63.45 | 269.54 | 6 | 8287 | JO |\n",
       "\n"
      ],
      "text/plain": [
       "          X100m Longueur Poids Hauteur X400m X110m.H Disque Perche Javelot\n",
       "Sebrle    10.85 7.84     16.36 2.12    48.36 14.05   48.72  5.0    70.52  \n",
       "Clay      10.44 7.96     15.23 2.06    49.19 14.13   50.11  4.9    69.71  \n",
       "Karpov    10.50 7.81     15.93 2.09    46.81 13.97   51.65  4.6    55.54  \n",
       "Macey     10.89 7.47     15.73 2.15    48.97 14.56   48.34  4.4    58.46  \n",
       "Warners   10.62 7.74     14.48 1.97    47.97 14.01   43.73  4.9    55.39  \n",
       "Zsivoczky 10.91 7.14     15.31 2.12    49.40 14.95   45.62  4.7    63.45  \n",
       "          X1500m Classement Points Competition\n",
       "Sebrle    280.01 1          8893   JO         \n",
       "Clay      282.00 2          8820   JO         \n",
       "Karpov    278.11 3          8725   JO         \n",
       "Macey     265.42 4          8414   JO         \n",
       "Warners   278.05 5          8343   JO         \n",
       "Zsivoczky 269.54 6          8287   JO         "
      ]
     },
     "metadata": {},
     "output_type": "display_data"
    }
   ],
   "source": [
    "df = read.table('data/decathlon.csv',header = T ,sep = ';', dec = '.', row.names = 1)\n",
    "head(df)"
   ]
  },
  {
   "cell_type": "markdown",
   "id": "af62e5f2",
   "metadata": {},
   "source": [
    "Le dataset ci-dessus est composé de plusieurs données assez différentes. Celles-ci représentent les scores obtenues par des athlètes de l'épreuve du decathlon au Jeux Olympiques, donc les scores des 10 épreuves ainsi que leur classement et leurs points."
   ]
  },
  {
   "cell_type": "markdown",
   "id": "f065bfb9",
   "metadata": {},
   "source": [
    "---\n",
    "\n",
    "## Visualisation des données manquantes"
   ]
  },
  {
   "cell_type": "code",
   "execution_count": 17,
   "id": "adb854a5",
   "metadata": {},
   "outputs": [
    {
     "data": {
      "image/png": "[encoded data removed]",
      "text/plain": [
       "plot without title"
      ]
     },
     "metadata": {
      "image/png": {
       "height": 420,
       "width": 420
      }
     },
     "output_type": "display_data"
    }
   ],
   "source": [
    "missdata = aggr(df, prop = F, number = T)"
   ]
  },
  {
   "cell_type": "markdown",
   "id": "3d82b577",
   "metadata": {},
   "source": [
    "On peut voir ici que notre dataset ne semble pas contenir de données manquantes, ce qui facilite notre analyse et nous permet de continuer sereinement. Deux choix étaient possibles si jamais le dataset contenait des données manquantes, soit la suppression des lignes qui ne sont pas complètes, ou alors il est possible d'inférer ces données manquantes par plusieurs algorithmes.\n",
    "\n",
    "Il faudra néanmoins vérifier qu’il n’y a aucune valeures aberrantes."
   ]
  },
  {
   "cell_type": "markdown",
   "id": "35193ebe",
   "metadata": {},
   "source": [
    "## Description du dataset\n",
    "\n",
    "Cette section va nous servir à comprendre un peu mieux notre dataset, notamment sur sa taille, ses attributs et quelques statistiques descriptives sur les colonnes. "
   ]
  },
  {
   "cell_type": "code",
   "execution_count": 18,
   "id": "1448f068",
   "metadata": {},
   "outputs": [
    {
     "data": {
      "text/html": [
       "<style>\n",
       ".list-inline {list-style: none; margin:0; padding: 0}\n",
       ".list-inline>li {display: inline-block}\n",
       ".list-inline>li:not(:last-child)::after {content: \"\\00b7\"; padding: 0 .5ex}\n",
       "</style>\n",
       "<ol class=list-inline><li>41</li><li>13</li></ol>\n"
      ],
      "text/latex": [
       "\\begin{enumerate*}\n",
       "\\item 41\n",
       "\\item 13\n",
       "\\end{enumerate*}\n"
      ],
      "text/markdown": [
       "1. 41\n",
       "2. 13\n",
       "\n",
       "\n"
      ],
      "text/plain": [
       "[1] 41 13"
      ]
     },
     "metadata": {},
     "output_type": "display_data"
    }
   ],
   "source": [
    "dim(df)"
   ]
  },
  {
   "cell_type": "markdown",
   "id": "aa421901",
   "metadata": {},
   "source": [
    "On comprend donc ici que notre dataset se compose de 41 individus qui ont chacun 13 données dans les colonnes qui servent à les qualifier et à les décrire."
   ]
  },
  {
   "cell_type": "code",
   "execution_count": 19,
   "id": "a2a84359",
   "metadata": {},
   "outputs": [
    {
     "data": {
      "text/html": [
       "<dl>\n",
       "\t<dt>$names</dt>\n",
       "\t\t<dd><style>\n",
       ".list-inline {list-style: none; margin:0; padding: 0}\n",
       ".list-inline>li {display: inline-block}\n",
       ".list-inline>li:not(:last-child)::after {content: \"\\00b7\"; padding: 0 .5ex}\n",
       "</style>\n",
       "<ol class=list-inline><li>'X100m'</li><li>'Longueur'</li><li>'Poids'</li><li>'Hauteur'</li><li>'X400m'</li><li>'X110m.H'</li><li>'Disque'</li><li>'Perche'</li><li>'Javelot'</li><li>'X1500m'</li><li>'Classement'</li><li>'Points'</li><li>'Competition'</li></ol>\n",
       "</dd>\n",
       "\t<dt>$class</dt>\n",
       "\t\t<dd>'data.frame'</dd>\n",
       "\t<dt>$row.names</dt>\n",
       "\t\t<dd><style>\n",
       ".list-inline {list-style: none; margin:0; padding: 0}\n",
       ".list-inline>li {display: inline-block}\n",
       ".list-inline>li:not(:last-child)::after {content: \"\\00b7\"; padding: 0 .5ex}\n",
       "</style>\n",
       "<ol class=list-inline><li>'Sebrle'</li><li>'Clay'</li><li>'Karpov'</li><li>'Macey'</li><li>'Warners'</li><li>'Zsivoczky'</li><li>'Hernu'</li><li>'Nool'</li><li>'Bernard'</li><li>'Schwarzl'</li><li>'Pogorelov'</li><li>'Schoenbeck'</li><li>'Barras'</li><li>'Smith'</li><li>'Averyanov'</li><li>'Ojaniemi'</li><li>'Smirnov'</li><li>'Qi'</li><li>'Drews'</li><li>'Parkhomenko'</li><li>'Terek'</li><li>'Gomez'</li><li>'Turi'</li><li>'Lorenzo'</li><li>'Karlivans'</li><li>'Korkizoglou'</li><li>'Uldal'</li><li>'Casarsa'</li><li>'SEBRLE'</li><li>'CLAY'</li><li>'KARPOV'</li><li>'BERNARD'</li><li>'YURKOV'</li><li>'WARNERS'</li><li>'ZSIVOCZKY'</li><li>'McMULLEN'</li><li>'MARTINEAU'</li><li>'HERNU'</li><li>'BARRAS'</li><li>'NOOL'</li><li>'BOURGUIGNON'</li></ol>\n",
       "</dd>\n",
       "</dl>\n"
      ],
      "text/latex": [
       "\\begin{description}\n",
       "\\item[\\$names] \\begin{enumerate*}\n",
       "\\item 'X100m'\n",
       "\\item 'Longueur'\n",
       "\\item 'Poids'\n",
       "\\item 'Hauteur'\n",
       "\\item 'X400m'\n",
       "\\item 'X110m.H'\n",
       "\\item 'Disque'\n",
       "\\item 'Perche'\n",
       "\\item 'Javelot'\n",
       "\\item 'X1500m'\n",
       "\\item 'Classement'\n",
       "\\item 'Points'\n",
       "\\item 'Competition'\n",
       "\\end{enumerate*}\n",
       "\n",
       "\\item[\\$class] 'data.frame'\n",
       "\\item[\\$row.names] \\begin{enumerate*}\n",
       "\\item 'Sebrle'\n",
       "\\item 'Clay'\n",
       "\\item 'Karpov'\n",
       "\\item 'Macey'\n",
       "\\item 'Warners'\n",
       "\\item 'Zsivoczky'\n",
       "\\item 'Hernu'\n",
       "\\item 'Nool'\n",
       "\\item 'Bernard'\n",
       "\\item 'Schwarzl'\n",
       "\\item 'Pogorelov'\n",
       "\\item 'Schoenbeck'\n",
       "\\item 'Barras'\n",
       "\\item 'Smith'\n",
       "\\item 'Averyanov'\n",
       "\\item 'Ojaniemi'\n",
       "\\item 'Smirnov'\n",
       "\\item 'Qi'\n",
       "\\item 'Drews'\n",
       "\\item 'Parkhomenko'\n",
       "\\item 'Terek'\n",
       "\\item 'Gomez'\n",
       "\\item 'Turi'\n",
       "\\item 'Lorenzo'\n",
       "\\item 'Karlivans'\n",
       "\\item 'Korkizoglou'\n",
       "\\item 'Uldal'\n",
       "\\item 'Casarsa'\n",
       "\\item 'SEBRLE'\n",
       "\\item 'CLAY'\n",
       "\\item 'KARPOV'\n",
       "\\item 'BERNARD'\n",
       "\\item 'YURKOV'\n",
       "\\item 'WARNERS'\n",
       "\\item 'ZSIVOCZKY'\n",
       "\\item 'McMULLEN'\n",
       "\\item 'MARTINEAU'\n",
       "\\item 'HERNU'\n",
       "\\item 'BARRAS'\n",
       "\\item 'NOOL'\n",
       "\\item 'BOURGUIGNON'\n",
       "\\end{enumerate*}\n",
       "\n",
       "\\end{description}\n"
      ],
      "text/markdown": [
       "$names\n",
       ":   1. 'X100m'\n",
       "2. 'Longueur'\n",
       "3. 'Poids'\n",
       "4. 'Hauteur'\n",
       "5. 'X400m'\n",
       "6. 'X110m.H'\n",
       "7. 'Disque'\n",
       "8. 'Perche'\n",
       "9. 'Javelot'\n",
       "10. 'X1500m'\n",
       "11. 'Classement'\n",
       "12. 'Points'\n",
       "13. 'Competition'\n",
       "\n",
       "\n",
       "\n",
       "$class\n",
       ":   'data.frame'\n",
       "$row.names\n",
       ":   1. 'Sebrle'\n",
       "2. 'Clay'\n",
       "3. 'Karpov'\n",
       "4. 'Macey'\n",
       "5. 'Warners'\n",
       "6. 'Zsivoczky'\n",
       "7. 'Hernu'\n",
       "8. 'Nool'\n",
       "9. 'Bernard'\n",
       "10. 'Schwarzl'\n",
       "11. 'Pogorelov'\n",
       "12. 'Schoenbeck'\n",
       "13. 'Barras'\n",
       "14. 'Smith'\n",
       "15. 'Averyanov'\n",
       "16. 'Ojaniemi'\n",
       "17. 'Smirnov'\n",
       "18. 'Qi'\n",
       "19. 'Drews'\n",
       "20. 'Parkhomenko'\n",
       "21. 'Terek'\n",
       "22. 'Gomez'\n",
       "23. 'Turi'\n",
       "24. 'Lorenzo'\n",
       "25. 'Karlivans'\n",
       "26. 'Korkizoglou'\n",
       "27. 'Uldal'\n",
       "28. 'Casarsa'\n",
       "29. 'SEBRLE'\n",
       "30. 'CLAY'\n",
       "31. 'KARPOV'\n",
       "32. 'BERNARD'\n",
       "33. 'YURKOV'\n",
       "34. 'WARNERS'\n",
       "35. 'ZSIVOCZKY'\n",
       "36. 'McMULLEN'\n",
       "37. 'MARTINEAU'\n",
       "38. 'HERNU'\n",
       "39. 'BARRAS'\n",
       "40. 'NOOL'\n",
       "41. 'BOURGUIGNON'\n",
       "\n",
       "\n",
       "\n",
       "\n",
       "\n"
      ],
      "text/plain": [
       "$names\n",
       " [1] \"X100m\"       \"Longueur\"    \"Poids\"       \"Hauteur\"     \"X400m\"      \n",
       " [6] \"X110m.H\"     \"Disque\"      \"Perche\"      \"Javelot\"     \"X1500m\"     \n",
       "[11] \"Classement\"  \"Points\"      \"Competition\"\n",
       "\n",
       "$class\n",
       "[1] \"data.frame\"\n",
       "\n",
       "$row.names\n",
       " [1] \"Sebrle\"      \"Clay\"        \"Karpov\"      \"Macey\"       \"Warners\"    \n",
       " [6] \"Zsivoczky\"   \"Hernu\"       \"Nool\"        \"Bernard\"     \"Schwarzl\"   \n",
       "[11] \"Pogorelov\"   \"Schoenbeck\"  \"Barras\"      \"Smith\"       \"Averyanov\"  \n",
       "[16] \"Ojaniemi\"    \"Smirnov\"     \"Qi\"          \"Drews\"       \"Parkhomenko\"\n",
       "[21] \"Terek\"       \"Gomez\"       \"Turi\"        \"Lorenzo\"     \"Karlivans\"  \n",
       "[26] \"Korkizoglou\" \"Uldal\"       \"Casarsa\"     \"SEBRLE\"      \"CLAY\"       \n",
       "[31] \"KARPOV\"      \"BERNARD\"     \"YURKOV\"      \"WARNERS\"     \"ZSIVOCZKY\"  \n",
       "[36] \"McMULLEN\"    \"MARTINEAU\"   \"HERNU\"       \"BARRAS\"      \"NOOL\"       \n",
       "[41] \"BOURGUIGNON\"\n"
      ]
     },
     "metadata": {},
     "output_type": "display_data"
    }
   ],
   "source": [
    "attributes(df)"
   ]
  },
  {
   "cell_type": "code",
   "execution_count": 20,
   "id": "63ac2204",
   "metadata": {},
   "outputs": [
    {
     "data": {
      "text/plain": [
       "     X100m          Longueur        Poids          Hauteur          X400m      \n",
       " Min.   :10.44   Min.   :6.61   Min.   :12.68   Min.   :1.850   Min.   :46.81  \n",
       " 1st Qu.:10.85   1st Qu.:7.03   1st Qu.:13.88   1st Qu.:1.920   1st Qu.:48.93  \n",
       " Median :10.98   Median :7.30   Median :14.57   Median :1.950   Median :49.40  \n",
       " Mean   :11.00   Mean   :7.26   Mean   :14.48   Mean   :1.977   Mean   :49.62  \n",
       " 3rd Qu.:11.14   3rd Qu.:7.48   3rd Qu.:14.97   3rd Qu.:2.040   3rd Qu.:50.30  \n",
       " Max.   :11.64   Max.   :7.96   Max.   :16.36   Max.   :2.150   Max.   :53.20  \n",
       "    X110m.H          Disque          Perche         Javelot     \n",
       " Min.   :13.97   Min.   :37.92   Min.   :4.200   Min.   :50.31  \n",
       " 1st Qu.:14.21   1st Qu.:41.90   1st Qu.:4.500   1st Qu.:55.27  \n",
       " Median :14.48   Median :44.41   Median :4.800   Median :58.36  \n",
       " Mean   :14.61   Mean   :44.33   Mean   :4.762   Mean   :58.32  \n",
       " 3rd Qu.:14.98   3rd Qu.:46.07   3rd Qu.:4.920   3rd Qu.:60.89  \n",
       " Max.   :15.67   Max.   :51.65   Max.   :5.400   Max.   :70.52  \n",
       "     X1500m        Classement        Points     Competition       \n",
       " Min.   :262.1   Min.   : 1.00   Min.   :7313   Length:41         \n",
       " 1st Qu.:271.0   1st Qu.: 6.00   1st Qu.:7802   Class :character  \n",
       " Median :278.1   Median :11.00   Median :8021   Mode  :character  \n",
       " Mean   :279.0   Mean   :12.12   Mean   :8005                     \n",
       " 3rd Qu.:285.1   3rd Qu.:18.00   3rd Qu.:8122                     \n",
       " Max.   :317.0   Max.   :28.00   Max.   :8893                     "
      ]
     },
     "metadata": {},
     "output_type": "display_data"
    }
   ],
   "source": [
    "summary(df)"
   ]
  },
  {
   "cell_type": "code",
   "execution_count": null,
   "id": "495a25c4",
   "metadata": {},
   "outputs": [],
   "source": []
  }
 ],
 "metadata": {
  "kernelspec": {
   "display_name": "R",
   "language": "R",
   "name": "ir"
  },
  "language_info": {
   "codemirror_mode": "r",
   "file_extension": ".r",
   "mimetype": "text/x-r-source",
   "name": "R",
   "pygments_lexer": "r",
   "version": "4.2.0"
  }
 },
 "nbformat": 4,
 "nbformat_minor": 5
}
